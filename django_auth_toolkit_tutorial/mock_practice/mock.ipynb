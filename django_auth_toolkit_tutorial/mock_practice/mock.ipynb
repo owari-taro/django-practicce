{
 "cells": [
  {
   "cell_type": "code",
   "execution_count": 2,
   "id": "4abb1a6a-71c5-4fda-8395-689296dc514a",
   "metadata": {},
   "outputs": [
    {
     "data": {
      "text/plain": [
       "3"
      ]
     },
     "execution_count": 2,
     "metadata": {},
     "output_type": "execute_result"
    }
   ],
   "source": [
    "from unittest.mock import Mock\n",
    "mock=Mock(return_value=3)\n",
    "mock()"
   ]
  },
  {
   "cell_type": "code",
   "execution_count": 3,
   "id": "80cd6782-5c60-40fc-ae88-04c643d626b6",
   "metadata": {},
   "outputs": [
    {
     "data": {
      "text/plain": [
       "4"
      ]
     },
     "execution_count": 3,
     "metadata": {},
     "output_type": "execute_result"
    }
   ],
   "source": [
    "mock.return_value=4\n",
    "mock()\n"
   ]
  },
  {
   "cell_type": "code",
   "execution_count": 4,
   "id": "e05554cc-b164-49dd-9248-c2ca8a10169c",
   "metadata": {},
   "outputs": [
    {
     "data": {
      "text/plain": [
       "{'_mock_return_value': 4,\n",
       " '_mock_parent': None,\n",
       " '_mock_name': None,\n",
       " '_mock_new_name': '',\n",
       " '_mock_new_parent': None,\n",
       " '_mock_sealed': False,\n",
       " '_spec_class': None,\n",
       " '_spec_set': None,\n",
       " '_spec_signature': None,\n",
       " '_mock_methods': None,\n",
       " '_spec_asyncs': [],\n",
       " '_mock_children': {},\n",
       " '_mock_wraps': None,\n",
       " '_mock_delegate': None,\n",
       " '_mock_called': True,\n",
       " '_mock_call_args': call(),\n",
       " '_mock_call_count': 2,\n",
       " '_mock_call_args_list': [call(), call()],\n",
       " '_mock_mock_calls': [call(), call()],\n",
       " 'method_calls': [],\n",
       " '_mock_unsafe': False,\n",
       " '_mock_side_effect': None}"
      ]
     },
     "execution_count": 4,
     "metadata": {},
     "output_type": "execute_result"
    }
   ],
   "source": [
    "mock.__dict__"
   ]
  },
  {
   "cell_type": "code",
   "execution_count": 5,
   "id": "58d19553-78e8-4c22-8294-352d440c83cf",
   "metadata": {},
   "outputs": [
    {
     "data": {
      "text/plain": [
       "4"
      ]
     },
     "execution_count": 5,
     "metadata": {},
     "output_type": "execute_result"
    }
   ],
   "source": [
    "#an argument dont aggect returned value \n",
    "mock(1)\n"
   ]
  },
  {
   "cell_type": "code",
   "execution_count": 7,
   "id": "6d4fe1e5-5cec-4380-ab24-faba48c9e4d0",
   "metadata": {},
   "outputs": [
    {
     "data": {
      "text/plain": [
       "1"
      ]
     },
     "execution_count": 7,
     "metadata": {},
     "output_type": "execute_result"
    }
   ],
   "source": [
    "mock=Mock(side_effect=lambda x: x % 2)\n",
    "mock(3)"
   ]
  },
  {
   "cell_type": "code",
   "execution_count": 10,
   "id": "bf55bee9-e03f-4445-a122-dd6804f16274",
   "metadata": {},
   "outputs": [
    {
     "name": "stdout",
     "output_type": "stream",
     "text": [
      "4\n",
      "7\n"
     ]
    }
   ],
   "source": [
    "def plus_function(num):\n",
    "    return num+1\n",
    "\n",
    "mock=Mock(side_effect=plus_function)\n",
    "print(mock(3))\n",
    "def many_arguments(num1,num2):\n",
    "    return num1+num2\n",
    "mock=Mock(side_effect=many_arguments)\n",
    "print(mock(3,4))\n"
   ]
  },
  {
   "cell_type": "code",
   "execution_count": 13,
   "id": "1fe321dd-bb67-46c8-bbab-e378c7068bf3",
   "metadata": {},
   "outputs": [
    {
     "name": "stdout",
     "output_type": "stream",
     "text": [
      "1\n",
      "2\n",
      "[1, 2, 3]\n"
     ]
    }
   ],
   "source": [
    "mock.side_effect=[1,2,3]\n",
    "print(mock())\n",
    "print(mock())\n",
    "def return_list():\n",
    "    return [1,2,3]\n",
    "mock.side_effect=return_list\n",
    "print(mock())"
   ]
  },
  {
   "cell_type": "code",
   "execution_count": null,
   "id": "4842d4da-8c19-4e39-ac8f-3263d5e87a05",
   "metadata": {},
   "outputs": [],
   "source": []
  }
 ],
 "metadata": {
  "kernelspec": {
   "display_name": "Python 3 (ipykernel)",
   "language": "python",
   "name": "python3"
  },
  "language_info": {
   "codemirror_mode": {
    "name": "ipython",
    "version": 3
   },
   "file_extension": ".py",
   "mimetype": "text/x-python",
   "name": "python",
   "nbconvert_exporter": "python",
   "pygments_lexer": "ipython3",
   "version": "3.9.1"
  }
 },
 "nbformat": 4,
 "nbformat_minor": 5
}
